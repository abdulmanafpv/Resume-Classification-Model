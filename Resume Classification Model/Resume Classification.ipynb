{
 "cells": [
  {
   "cell_type": "code",
   "execution_count": 2,
   "metadata": {},
   "outputs": [
    {
     "data": {
      "text/html": [
       "<div>\n",
       "<style scoped>\n",
       "    .dataframe tbody tr th:only-of-type {\n",
       "        vertical-align: middle;\n",
       "    }\n",
       "\n",
       "    .dataframe tbody tr th {\n",
       "        vertical-align: top;\n",
       "    }\n",
       "\n",
       "    .dataframe thead th {\n",
       "        text-align: right;\n",
       "    }\n",
       "</style>\n",
       "<table border=\"1\" class=\"dataframe\">\n",
       "  <thead>\n",
       "    <tr style=\"text-align: right;\">\n",
       "      <th></th>\n",
       "      <th>Category</th>\n",
       "      <th>Resume</th>\n",
       "    </tr>\n",
       "  </thead>\n",
       "  <tbody>\n",
       "    <tr>\n",
       "      <th>0</th>\n",
       "      <td>Data Science</td>\n",
       "      <td>Skills * Programming Languages: Python (pandas...</td>\n",
       "    </tr>\n",
       "    <tr>\n",
       "      <th>1</th>\n",
       "      <td>Data Science</td>\n",
       "      <td>Education Details \\r\\nMay 2013 to May 2017 B.E...</td>\n",
       "    </tr>\n",
       "    <tr>\n",
       "      <th>2</th>\n",
       "      <td>Data Science</td>\n",
       "      <td>Areas of Interest Deep Learning, Control Syste...</td>\n",
       "    </tr>\n",
       "    <tr>\n",
       "      <th>3</th>\n",
       "      <td>Data Science</td>\n",
       "      <td>Skills â¢ R â¢ Python â¢ SAP HANA â¢ Table...</td>\n",
       "    </tr>\n",
       "    <tr>\n",
       "      <th>4</th>\n",
       "      <td>Data Science</td>\n",
       "      <td>Education Details \\r\\n MCA   YMCAUST,  Faridab...</td>\n",
       "    </tr>\n",
       "    <tr>\n",
       "      <th>...</th>\n",
       "      <td>...</td>\n",
       "      <td>...</td>\n",
       "    </tr>\n",
       "    <tr>\n",
       "      <th>164</th>\n",
       "      <td>Testing</td>\n",
       "      <td>Computer Skills: â¢ Proficient in MS office (...</td>\n",
       "    </tr>\n",
       "    <tr>\n",
       "      <th>165</th>\n",
       "      <td>Testing</td>\n",
       "      <td>â Willingness to accept the challenges. â ...</td>\n",
       "    </tr>\n",
       "    <tr>\n",
       "      <th>166</th>\n",
       "      <td>Testing</td>\n",
       "      <td>PERSONAL SKILLS â¢ Quick learner, â¢ Eagerne...</td>\n",
       "    </tr>\n",
       "    <tr>\n",
       "      <th>167</th>\n",
       "      <td>Testing</td>\n",
       "      <td>COMPUTER SKILLS &amp; SOFTWARE KNOWLEDGE MS-Power ...</td>\n",
       "    </tr>\n",
       "    <tr>\n",
       "      <th>168</th>\n",
       "      <td>Testing</td>\n",
       "      <td>Skill Set OS Windows XP/7/8/8.1/10 Database MY...</td>\n",
       "    </tr>\n",
       "  </tbody>\n",
       "</table>\n",
       "<p>169 rows × 2 columns</p>\n",
       "</div>"
      ],
      "text/plain": [
       "         Category                                             Resume\n",
       "0    Data Science  Skills * Programming Languages: Python (pandas...\n",
       "1    Data Science  Education Details \\r\\nMay 2013 to May 2017 B.E...\n",
       "2    Data Science  Areas of Interest Deep Learning, Control Syste...\n",
       "3    Data Science  Skills â¢ R â¢ Python â¢ SAP HANA â¢ Table...\n",
       "4    Data Science  Education Details \\r\\n MCA   YMCAUST,  Faridab...\n",
       "..            ...                                                ...\n",
       "164       Testing  Computer Skills: â¢ Proficient in MS office (...\n",
       "165       Testing  â Willingness to accept the challenges. â ...\n",
       "166       Testing  PERSONAL SKILLS â¢ Quick learner, â¢ Eagerne...\n",
       "167       Testing  COMPUTER SKILLS & SOFTWARE KNOWLEDGE MS-Power ...\n",
       "168       Testing  Skill Set OS Windows XP/7/8/8.1/10 Database MY...\n",
       "\n",
       "[169 rows x 2 columns]"
      ]
     },
     "execution_count": 2,
     "metadata": {},
     "output_type": "execute_result"
    }
   ],
   "source": [
    "import pandas as pd\n",
    "data=pd.read_csv(\"C:\\\\Users\\\\user\\\\Desktop\\\\intern data\\\\resume_dataset.csv\")\n",
    "data"
   ]
  },
  {
   "cell_type": "code",
   "execution_count": 3,
   "metadata": {},
   "outputs": [
    {
     "data": {
      "text/html": [
       "<div>\n",
       "<style scoped>\n",
       "    .dataframe tbody tr th:only-of-type {\n",
       "        vertical-align: middle;\n",
       "    }\n",
       "\n",
       "    .dataframe tbody tr th {\n",
       "        vertical-align: top;\n",
       "    }\n",
       "\n",
       "    .dataframe thead th {\n",
       "        text-align: right;\n",
       "    }\n",
       "</style>\n",
       "<table border=\"1\" class=\"dataframe\">\n",
       "  <thead>\n",
       "    <tr style=\"text-align: right;\">\n",
       "      <th></th>\n",
       "      <th>Category</th>\n",
       "      <th>Resume</th>\n",
       "    </tr>\n",
       "  </thead>\n",
       "  <tbody>\n",
       "    <tr>\n",
       "      <th>0</th>\n",
       "      <td>Data Science</td>\n",
       "      <td>Skills * Programming Languages: Python (pandas...</td>\n",
       "    </tr>\n",
       "    <tr>\n",
       "      <th>1</th>\n",
       "      <td>Data Science</td>\n",
       "      <td>Education Details \\r\\nMay 2013 to May 2017 B.E...</td>\n",
       "    </tr>\n",
       "    <tr>\n",
       "      <th>2</th>\n",
       "      <td>Data Science</td>\n",
       "      <td>Areas of Interest Deep Learning, Control Syste...</td>\n",
       "    </tr>\n",
       "    <tr>\n",
       "      <th>3</th>\n",
       "      <td>Data Science</td>\n",
       "      <td>Skills â¢ R â¢ Python â¢ SAP HANA â¢ Table...</td>\n",
       "    </tr>\n",
       "    <tr>\n",
       "      <th>4</th>\n",
       "      <td>Data Science</td>\n",
       "      <td>Education Details \\r\\n MCA   YMCAUST,  Faridab...</td>\n",
       "    </tr>\n",
       "  </tbody>\n",
       "</table>\n",
       "</div>"
      ],
      "text/plain": [
       "       Category                                             Resume\n",
       "0  Data Science  Skills * Programming Languages: Python (pandas...\n",
       "1  Data Science  Education Details \\r\\nMay 2013 to May 2017 B.E...\n",
       "2  Data Science  Areas of Interest Deep Learning, Control Syste...\n",
       "3  Data Science  Skills â¢ R â¢ Python â¢ SAP HANA â¢ Table...\n",
       "4  Data Science  Education Details \\r\\n MCA   YMCAUST,  Faridab..."
      ]
     },
     "execution_count": 3,
     "metadata": {},
     "output_type": "execute_result"
    }
   ],
   "source": [
    "data.head()"
   ]
  },
  {
   "cell_type": "code",
   "execution_count": 4,
   "metadata": {},
   "outputs": [
    {
     "data": {
      "text/html": [
       "<div>\n",
       "<style scoped>\n",
       "    .dataframe tbody tr th:only-of-type {\n",
       "        vertical-align: middle;\n",
       "    }\n",
       "\n",
       "    .dataframe tbody tr th {\n",
       "        vertical-align: top;\n",
       "    }\n",
       "\n",
       "    .dataframe thead th {\n",
       "        text-align: right;\n",
       "    }\n",
       "</style>\n",
       "<table border=\"1\" class=\"dataframe\">\n",
       "  <thead>\n",
       "    <tr style=\"text-align: right;\">\n",
       "      <th></th>\n",
       "      <th>Category</th>\n",
       "      <th>Resume</th>\n",
       "    </tr>\n",
       "  </thead>\n",
       "  <tbody>\n",
       "    <tr>\n",
       "      <th>164</th>\n",
       "      <td>Testing</td>\n",
       "      <td>Computer Skills: â¢ Proficient in MS office (...</td>\n",
       "    </tr>\n",
       "    <tr>\n",
       "      <th>165</th>\n",
       "      <td>Testing</td>\n",
       "      <td>â Willingness to accept the challenges. â ...</td>\n",
       "    </tr>\n",
       "    <tr>\n",
       "      <th>166</th>\n",
       "      <td>Testing</td>\n",
       "      <td>PERSONAL SKILLS â¢ Quick learner, â¢ Eagerne...</td>\n",
       "    </tr>\n",
       "    <tr>\n",
       "      <th>167</th>\n",
       "      <td>Testing</td>\n",
       "      <td>COMPUTER SKILLS &amp; SOFTWARE KNOWLEDGE MS-Power ...</td>\n",
       "    </tr>\n",
       "    <tr>\n",
       "      <th>168</th>\n",
       "      <td>Testing</td>\n",
       "      <td>Skill Set OS Windows XP/7/8/8.1/10 Database MY...</td>\n",
       "    </tr>\n",
       "  </tbody>\n",
       "</table>\n",
       "</div>"
      ],
      "text/plain": [
       "    Category                                             Resume\n",
       "164  Testing  Computer Skills: â¢ Proficient in MS office (...\n",
       "165  Testing  â Willingness to accept the challenges. â ...\n",
       "166  Testing  PERSONAL SKILLS â¢ Quick learner, â¢ Eagerne...\n",
       "167  Testing  COMPUTER SKILLS & SOFTWARE KNOWLEDGE MS-Power ...\n",
       "168  Testing  Skill Set OS Windows XP/7/8/8.1/10 Database MY..."
      ]
     },
     "execution_count": 4,
     "metadata": {},
     "output_type": "execute_result"
    }
   ],
   "source": [
    "data.tail()"
   ]
  },
  {
   "cell_type": "code",
   "execution_count": 5,
   "metadata": {},
   "outputs": [
    {
     "data": {
      "text/plain": [
       "0      Data Science\n",
       "1      Data Science\n",
       "2      Data Science\n",
       "3      Data Science\n",
       "4      Data Science\n",
       "           ...     \n",
       "164         Testing\n",
       "165         Testing\n",
       "166         Testing\n",
       "167         Testing\n",
       "168         Testing\n",
       "Name: Category, Length: 169, dtype: object"
      ]
     },
     "execution_count": 5,
     "metadata": {},
     "output_type": "execute_result"
    }
   ],
   "source": [
    "data['Category']"
   ]
  },
  {
   "cell_type": "code",
   "execution_count": 6,
   "metadata": {},
   "outputs": [
    {
     "data": {
      "text/plain": [
       "0      Skills * Programming Languages: Python (pandas...\n",
       "1      Education Details \\r\\nMay 2013 to May 2017 B.E...\n",
       "2      Areas of Interest Deep Learning, Control Syste...\n",
       "3      Skills â¢ R â¢ Python â¢ SAP HANA â¢ Table...\n",
       "4      Education Details \\r\\n MCA   YMCAUST,  Faridab...\n",
       "                             ...                        \n",
       "164    Computer Skills: â¢ Proficient in MS office (...\n",
       "165    â Willingness to accept the challenges. â ...\n",
       "166    PERSONAL SKILLS â¢ Quick learner, â¢ Eagerne...\n",
       "167    COMPUTER SKILLS & SOFTWARE KNOWLEDGE MS-Power ...\n",
       "168    Skill Set OS Windows XP/7/8/8.1/10 Database MY...\n",
       "Name: Resume, Length: 169, dtype: object"
      ]
     },
     "execution_count": 6,
     "metadata": {},
     "output_type": "execute_result"
    }
   ],
   "source": [
    "data['Resume']"
   ]
  },
  {
   "cell_type": "code",
   "execution_count": 7,
   "metadata": {},
   "outputs": [
    {
     "data": {
      "text/plain": [
       "array(['Data Science', 'HR', 'Advocate', 'Arts', 'Web Designing',\n",
       "       'Mechanical Engineer', 'Sales', 'Health and fitness',\n",
       "       'Civil Engineer', 'Java Developer', 'Business Analyst',\n",
       "       'SAP Developer', 'Automation Testing', 'Electrical Engineering',\n",
       "       'Operations Manager', 'Python Developer', 'DevOps Engineer',\n",
       "       'Network Security Engineer', 'PMO', 'Database', 'Hadoop',\n",
       "       'ETL Developer', 'DotNet Developer', 'Blockchain', 'Testing'],\n",
       "      dtype=object)"
      ]
     },
     "execution_count": 7,
     "metadata": {},
     "output_type": "execute_result"
    }
   ],
   "source": [
    "data['Category'].unique()"
   ]
  },
  {
   "cell_type": "code",
   "execution_count": 8,
   "metadata": {},
   "outputs": [
    {
     "data": {
      "text/plain": [
       "Java Developer               14\n",
       "Database                     11\n",
       "HR                           11\n",
       "Data Science                 10\n",
       "Advocate                     10\n",
       "DevOps Engineer               7\n",
       "Hadoop                        7\n",
       "Testing                       7\n",
       "DotNet Developer              7\n",
       "Automation Testing            7\n",
       "Health and fitness            6\n",
       "Arts                          6\n",
       "Business Analyst              6\n",
       "Python Developer              6\n",
       "SAP Developer                 6\n",
       "Civil Engineer                6\n",
       "Electrical Engineering        5\n",
       "Sales                         5\n",
       "Mechanical Engineer           5\n",
       "ETL Developer                 5\n",
       "Network Security Engineer     5\n",
       "Blockchain                    5\n",
       "Web Designing                 5\n",
       "Operations Manager            4\n",
       "PMO                           3\n",
       "Name: Category, dtype: int64"
      ]
     },
     "execution_count": 8,
     "metadata": {},
     "output_type": "execute_result"
    }
   ],
   "source": [
    "data['Category'].value_counts()"
   ]
  },
  {
   "cell_type": "code",
   "execution_count": 9,
   "metadata": {},
   "outputs": [
    {
     "data": {
      "text/plain": [
       "<function matplotlib.pyplot.show(*args, **kw)>"
      ]
     },
     "execution_count": 9,
     "metadata": {},
     "output_type": "execute_result"
    },
    {
     "data": {
      "image/png": "[encoded data removed]",
      "text/plain": [
       "<Figure size 1080x1080 with 1 Axes>"
      ]
     },
     "metadata": {
      "needs_background": "light"
     },
     "output_type": "display_data"
    }
   ],
   "source": [
    "import matplotlib.pyplot as plt\n",
    "import seaborn as sns\n",
    "plt.figure(figsize=(15,15))\n",
    "plt.xticks(rotation=90)\n",
    "sns.countplot(y='Category',data=data,order=data['Category'].value_counts().index)\n",
    "plt.show"
   ]
  },
  {
   "cell_type": "code",
   "execution_count": 10,
   "metadata": {},
   "outputs": [],
   "source": [
    "count=data['Category'].value_counts()\n",
    "labels=data['Category'].unique()"
   ]
  },
  {
   "cell_type": "code",
   "execution_count": 13,
   "metadata": {},
   "outputs": [
    {
     "data": {
      "image/png": "[encoded data removed]",
      "text/plain": [
       "<Figure size 1440x1440 with 1 Axes>"
      ]
     },
     "metadata": {},
     "output_type": "display_data"
    }
   ],
   "source": [
    "import numpy as np\n",
    "\n",
    "plt.figure(figsize=(20,20))\n",
    "from matplotlib.gridspec import GridSpec\n",
    "grid=GridSpec(2,2)\n",
    "cmap=plt.get_cmap('Accent')\n",
    "colors=[cmap(i) for i in np.linspace(0,1,3)]\n",
    "plt.subplot(grid[0,1],aspect=1,title='Distributions')\n",
    "pie=plt.pie(count,labels=labels,autopct='%1.1f%%',colors=colors)"
   ]
  },
  {
   "cell_type": "code",
   "execution_count": 14,
   "metadata": {},
   "outputs": [],
   "source": [
    "import re\n",
    "def clean_resume(resumeText):\n",
    "\n",
    "  resumeText=re.sub('http\\S+\\s*','',resumeText)\n",
    "  resumeText=re.sub('RT|cc','',resumeText)\n",
    "  resumeText=re.sub('#\\S+','',resumeText)\n",
    "  resumeText=re.sub('@\\S+','',resumeText)\n",
    "  resumeText=re.sub('[%s]' % re.escape(\"\"\"!\"#$%&'()*+,-./:;<=>?@[\\]^_`{|}~\"\"\"),'',resumeText)\n",
    "  resumeText = re.sub(r'[^\\x00-\\x7f]',r' ', resumeText) \n",
    "  resumeText = re.sub('\\s+', ' ', resumeText)  \n",
    "  return resumeText\n",
    "\n",
    "data['cleaned_resume'] = data.Resume.apply(lambda x: clean_resume(x))"
   ]
  },
  {
   "cell_type": "code",
   "execution_count": 15,
   "metadata": {},
   "outputs": [
    {
     "data": {
      "text/plain": [
       "0      Skills Programming Languages Python pandas num...\n",
       "1      Education Details May 2013 to May 2017 BE UITR...\n",
       "2      Areas of Interest Deep Learning Control System...\n",
       "3      Skills R Python SAP HANA Tableau SAP HANA SQL ...\n",
       "4      Education Details MCA YMCAUST Faridabad Haryan...\n",
       "                             ...                        \n",
       "164    Computer Skills Proficient in MS office Word B...\n",
       "165     Willingness to aept the challenges Positive t...\n",
       "166    PERSONAL SKILLS Quick learner Eagerness to lea...\n",
       "167    COMPUTER SKILLS SOFTWARE KNOWLEDGE MSPower Poi...\n",
       "168    Skill Set OS Windows XP788110 Database MYSQL s...\n",
       "Name: cleaned_resume, Length: 169, dtype: object"
      ]
     },
     "execution_count": 15,
     "metadata": {},
     "output_type": "execute_result"
    }
   ],
   "source": [
    " data['cleaned_resume']"
   ]
  },
  {
   "cell_type": "code",
   "execution_count": 18,
   "metadata": {},
   "outputs": [
    {
     "name": "stderr",
     "output_type": "stream",
     "text": [
      "[nltk_data] Downloading package stopwords to\n",
      "[nltk_data]     C:\\Users\\user\\AppData\\Roaming\\nltk_data...\n",
      "[nltk_data]   Package stopwords is already up-to-date!\n",
      "[nltk_data] Downloading package punkt to\n",
      "[nltk_data]     C:\\Users\\user\\AppData\\Roaming\\nltk_data...\n",
      "[nltk_data]   Package punkt is already up-to-date!\n"
     ]
    },
    {
     "data": {
      "text/plain": [
       "True"
      ]
     },
     "execution_count": 18,
     "metadata": {},
     "output_type": "execute_result"
    }
   ],
   "source": [
    "#Wordcloud\n",
    "import nltk\n",
    "from nltk.corpus import stopwords\n",
    "nltk.download('stopwords')\n",
    "import string\n",
    "nltk.download('punkt')"
   ]
  },
  {
   "cell_type": "code",
   "execution_count": 19,
   "metadata": {},
   "outputs": [
    {
     "name": "stdout",
     "output_type": "stream",
     "text": [
      "[('Details', 305), ('Exprience', 303), ('company', 261), ('months', 253), ('description', 239), ('1', 169), ('Project', 133), ('Maharashtra', 126), ('6', 116), ('year', 114), ('January', 114), ('project', 108), ('Less', 103), ('team', 95), ('data', 88), ('SAP', 81), ('Engineering', 80), ('using', 79), ('Java', 77), ('Education', 73), ('Responsibilities', 72), ('Test', 69), ('monthsCompany', 67), ('Mumbai', 67), ('work', 64), ('India', 63), ('Ltd', 63), ('development', 61), ('test', 60), ('business', 59), ('Pvt', 59), ('Testing', 59), ('application', 59), ('various', 58), ('like', 58), ('Data', 57), ('The', 57), ('Management', 57), ('College', 57), ('requirements', 56), ('Pune', 55), ('reports', 54), ('Company', 54), ('Role', 53), ('Automation', 53), ('Developer', 51), ('SQL', 50), ('sales', 50), ('University', 49), ('Description', 49)]\n"
     ]
    }
   ],
   "source": [
    "set_of_stopwords=set(stopwords.words('english')+['``',\"''\"])\n",
    "total=[]\n",
    "sentences=data['Resume'].values\n",
    "cleaned=''\n",
    "for i in range (0,100):\n",
    "    cleaned_text=clean_resume(sentences[i])\n",
    "    cleaned+=cleaned_text\n",
    "    required_words=nltk.word_tokenize(cleaned_text)\n",
    "    for wrds in required_words:\n",
    "        if wrds not in set_of_stopwords and wrds not in string.punctuation:\n",
    "            total.append(wrds)\n",
    "wrdfrqdist=nltk.FreqDist(total)\n",
    "most_common=wrdfrqdist.most_common(50)\n",
    "print(most_common)"
   ]
  },
  {
   "cell_type": "code",
   "execution_count": 21,
   "metadata": {},
   "outputs": [
    {
     "data": {
      "text/plain": [
       "array([ 6, 12,  0,  1, 24, 16, 22, 14,  5, 15,  4, 21,  2, 11, 18, 20,  8,\n",
       "       17, 19,  7, 13, 10,  9,  3, 23])"
      ]
     },
     "execution_count": 21,
     "metadata": {},
     "output_type": "execute_result"
    }
   ],
   "source": [
    "from sklearn.preprocessing import LabelEncoder\n",
    "LE=LabelEncoder()\n",
    "data['Category']=LE.fit_transform(data['Category'])\n",
    "data['Category'].unique()"
   ]
  },
  {
   "cell_type": "code",
   "execution_count": 22,
   "metadata": {},
   "outputs": [
    {
     "name": "stdout",
     "output_type": "stream",
     "text": [
      "Feature completed .....\n",
      "(135, 1500)\n",
      "(34, 1500)\n"
     ]
    }
   ],
   "source": [
    "from sklearn.model_selection import train_test_split\n",
    "from sklearn.feature_extraction.text import TfidfVectorizer\n",
    "from scipy.sparse import hstack\n",
    "\n",
    "requiredText = data['cleaned_resume'].values\n",
    "requiredTarget = data['Category'].values\n",
    "\n",
    "word_vectorizer = TfidfVectorizer(\n",
    "    sublinear_tf=True,\n",
    "    stop_words='english',\n",
    "    max_features=1500)\n",
    "word_vectorizer.fit(requiredText)\n",
    "WordFeatures = word_vectorizer.transform(requiredText)\n",
    "\n",
    "print (\"Feature completed .....\")\n",
    "\n",
    "X_train,X_test,y_train,y_test = train_test_split(WordFeatures,requiredTarget,random_state=0, test_size=0.2)\n",
    "print(X_train.shape)\n",
    "print(X_test.shape)"
   ]
  },
  {
   "cell_type": "markdown",
   "metadata": {},
   "source": [
    "Using KNeighbors Classification"
   ]
  },
  {
   "cell_type": "code",
   "execution_count": 23,
   "metadata": {},
   "outputs": [],
   "source": [
    "from sklearn.multiclass import OneVsRestClassifier\n",
    "from sklearn.neighbors import KNeighborsClassifier\n",
    "mod = OneVsRestClassifier(KNeighborsClassifier())\n",
    "mod.fit(X_train, y_train)\n",
    "prediction = mod.predict(X_test)"
   ]
  },
  {
   "cell_type": "code",
   "execution_count": 24,
   "metadata": {},
   "outputs": [
    {
     "name": "stdout",
     "output_type": "stream",
     "text": [
      "Accuracy of Training data: 0.89\n"
     ]
    }
   ],
   "source": [
    "print('Accuracy of Training data: {:.2f}'.format(mod.score(X_train,y_train)))"
   ]
  },
  {
   "cell_type": "code",
   "execution_count": 25,
   "metadata": {},
   "outputs": [
    {
     "name": "stdout",
     "output_type": "stream",
     "text": [
      "Accuracy of Testing Data: 0.82\n"
     ]
    }
   ],
   "source": [
    "print('Accuracy of Testing Data: {:.2f}'.format(mod.score(X_test,y_test)))"
   ]
  },
  {
   "cell_type": "code",
   "execution_count": 26,
   "metadata": {},
   "outputs": [
    {
     "name": "stdout",
     "output_type": "stream",
     "text": [
      "              precision    recall  f1-score   support\n",
      "\n",
      "           0       1.00      1.00      1.00         1\n",
      "           1       0.00      0.00      0.00         1\n",
      "           2       1.00      1.00      1.00         2\n",
      "           3       1.00      1.00      1.00         1\n",
      "           5       1.00      1.00      1.00         1\n",
      "           6       1.00      1.00      1.00         3\n",
      "           7       1.00      1.00      1.00         1\n",
      "           9       1.00      0.75      0.86         4\n",
      "          11       1.00      0.33      0.50         3\n",
      "          13       1.00      1.00      1.00         2\n",
      "          14       1.00      0.67      0.80         3\n",
      "          15       1.00      1.00      1.00         2\n",
      "          16       1.00      1.00      1.00         1\n",
      "          17       1.00      1.00      1.00         2\n",
      "          18       0.00      0.00      0.00         0\n",
      "          19       0.00      0.00      0.00         0\n",
      "          20       0.75      1.00      0.86         3\n",
      "          21       1.00      1.00      1.00         1\n",
      "          22       1.00      1.00      1.00         1\n",
      "          23       0.00      0.00      0.00         1\n",
      "          24       0.50      1.00      0.67         1\n",
      "\n",
      "    accuracy                           0.82        34\n",
      "   macro avg       0.77      0.75      0.75        34\n",
      "weighted avg       0.90      0.82      0.84        34\n",
      "\n"
     ]
    },
    {
     "name": "stderr",
     "output_type": "stream",
     "text": [
      "C:\\ProgramData\\Anaconda3\\lib\\site-packages\\sklearn\\metrics\\_classification.py:1221: UndefinedMetricWarning: Precision and F-score are ill-defined and being set to 0.0 in labels with no predicted samples. Use `zero_division` parameter to control this behavior.\n",
      "  _warn_prf(average, modifier, msg_start, len(result))\n",
      "C:\\ProgramData\\Anaconda3\\lib\\site-packages\\sklearn\\metrics\\_classification.py:1221: UndefinedMetricWarning: Recall and F-score are ill-defined and being set to 0.0 in labels with no true samples. Use `zero_division` parameter to control this behavior.\n",
      "  _warn_prf(average, modifier, msg_start, len(result))\n"
     ]
    }
   ],
   "source": [
    "from sklearn.metrics import classification_report\n",
    "print(classification_report(y_test,prediction))"
   ]
  },
  {
   "cell_type": "markdown",
   "metadata": {},
   "source": [
    "Using MultinomialNB"
   ]
  },
  {
   "cell_type": "code",
   "execution_count": 27,
   "metadata": {},
   "outputs": [
    {
     "name": "stdout",
     "output_type": "stream",
     "text": [
      "Accuracy of MultinomialNB Classifier on training set: 0.83\n",
      "Accuracy of MultinomialNB Classifier on test set: 0.26\n",
      "\n",
      " Classification report for classifier OneVsRestClassifier(estimator=MultinomialNB()):\n",
      "              precision    recall  f1-score   support\n",
      "\n",
      "           0       1.00      1.00      1.00         1\n",
      "           1       0.00      0.00      0.00         1\n",
      "           2       0.00      0.00      0.00         2\n",
      "           3       0.00      0.00      0.00         1\n",
      "           5       1.00      1.00      1.00         1\n",
      "           6       1.00      0.67      0.80         3\n",
      "           7       0.25      1.00      0.40         1\n",
      "           9       0.00      0.00      0.00         4\n",
      "          11       0.00      0.00      0.00         3\n",
      "          12       0.00      0.00      0.00         0\n",
      "          13       1.00      0.50      0.67         2\n",
      "          14       0.00      0.00      0.00         3\n",
      "          15       0.12      1.00      0.22         2\n",
      "          16       0.00      0.00      0.00         1\n",
      "          17       0.00      0.00      0.00         2\n",
      "          20       0.00      0.00      0.00         3\n",
      "          21       0.00      0.00      0.00         1\n",
      "          22       0.00      0.00      0.00         1\n",
      "          23       0.00      0.00      0.00         1\n",
      "          24       1.00      1.00      1.00         1\n",
      "\n",
      "    accuracy                           0.26        34\n",
      "   macro avg       0.27      0.31      0.25        34\n",
      "weighted avg       0.25      0.26      0.22        34\n",
      "\n",
      "\n"
     ]
    },
    {
     "name": "stderr",
     "output_type": "stream",
     "text": [
      "C:\\ProgramData\\Anaconda3\\lib\\site-packages\\sklearn\\metrics\\_classification.py:1221: UndefinedMetricWarning: Precision and F-score are ill-defined and being set to 0.0 in labels with no predicted samples. Use `zero_division` parameter to control this behavior.\n",
      "  _warn_prf(average, modifier, msg_start, len(result))\n",
      "C:\\ProgramData\\Anaconda3\\lib\\site-packages\\sklearn\\metrics\\_classification.py:1221: UndefinedMetricWarning: Recall and F-score are ill-defined and being set to 0.0 in labels with no true samples. Use `zero_division` parameter to control this behavior.\n",
      "  _warn_prf(average, modifier, msg_start, len(result))\n"
     ]
    }
   ],
   "source": [
    "from sklearn.naive_bayes import MultinomialNB\n",
    "mod2 = OneVsRestClassifier(MultinomialNB()).fit(X_train, y_train)\n",
    "prediction = mod2.predict(X_test)\n",
    "print('Accuracy of MultinomialNB Classifier on training set: {:.2f}'.format(mod2.score(X_train, y_train)))\n",
    "print('Accuracy of MultinomialNB Classifier on test set: {:.2f}'.format(mod2.score(X_test, y_test)))\n",
    "print(\"\\n Classification report for classifier %s:\\n%s\\n\" % (mod2,classification_report(y_test, prediction)))"
   ]
  },
  {
   "cell_type": "markdown",
   "metadata": {},
   "source": [
    "Using Logistic Regression"
   ]
  },
  {
   "cell_type": "code",
   "execution_count": 28,
   "metadata": {},
   "outputs": [],
   "source": [
    "from sklearn.linear_model import LogisticRegression\n",
    "classifier= OneVsRestClassifier(LogisticRegression()).fit(X_train, y_train)\n",
    "prediction_logistic = classifier.predict(X_test)"
   ]
  },
  {
   "cell_type": "code",
   "execution_count": 30,
   "metadata": {},
   "outputs": [
    {
     "name": "stdout",
     "output_type": "stream",
     "text": [
      "7\n",
      "17\n",
      "              precision    recall  f1-score   support\n",
      "\n",
      "           0       1.00      1.00      1.00         1\n",
      "           1       0.00      0.00      0.00         1\n",
      "           2       0.00      0.00      0.00         2\n",
      "           3       0.00      0.00      0.00         1\n",
      "           5       1.00      1.00      1.00         1\n",
      "           6       1.00      0.67      0.80         3\n",
      "           7       0.25      1.00      0.40         1\n",
      "           9       0.00      0.00      0.00         4\n",
      "          11       0.00      0.00      0.00         3\n",
      "          12       0.00      0.00      0.00         0\n",
      "          13       1.00      0.50      0.67         2\n",
      "          14       0.00      0.00      0.00         3\n",
      "          15       0.14      1.00      0.25         2\n",
      "          16       0.00      0.00      0.00         1\n",
      "          17       0.00      0.00      0.00         2\n",
      "          20       0.00      0.00      0.00         3\n",
      "          21       0.00      0.00      0.00         1\n",
      "          22       0.00      0.00      0.00         1\n",
      "          23       0.00      0.00      0.00         1\n",
      "          24       1.00      1.00      1.00         1\n",
      "\n",
      "    accuracy                           0.26        34\n",
      "   macro avg       0.27      0.31      0.26        34\n",
      "weighted avg       0.25      0.26      0.22        34\n",
      "\n"
     ]
    },
    {
     "name": "stderr",
     "output_type": "stream",
     "text": [
      "C:\\ProgramData\\Anaconda3\\lib\\site-packages\\sklearn\\metrics\\_classification.py:1221: UndefinedMetricWarning: Precision and F-score are ill-defined and being set to 0.0 in labels with no predicted samples. Use `zero_division` parameter to control this behavior.\n",
      "  _warn_prf(average, modifier, msg_start, len(result))\n",
      "C:\\ProgramData\\Anaconda3\\lib\\site-packages\\sklearn\\metrics\\_classification.py:1221: UndefinedMetricWarning: Recall and F-score are ill-defined and being set to 0.0 in labels with no true samples. Use `zero_division` parameter to control this behavior.\n",
      "  _warn_prf(average, modifier, msg_start, len(result))\n"
     ]
    }
   ],
   "source": [
    "print(prediction_logistic[2])\n",
    "print(y_test[2])\n",
    "print(classification_report(y_test,prediction_logistic))"
   ]
  },
  {
   "cell_type": "code",
   "execution_count": 32,
   "metadata": {},
   "outputs": [
    {
     "name": "stdout",
     "output_type": "stream",
     "text": [
      "Accuracy score :  (array([ 9, 14, 17,  5, 11, 22,  6,  6, 21,  7, 14,  2,  3, 11, 15, 16, 15,\n",
      "       11, 13,  2, 20, 20,  9, 23, 14,  9,  0, 13,  9,  1,  6, 20, 17, 24]), array([15, 12,  7,  5, 12, 12,  6, 12,  7,  7, 12, 15, 15, 23, 15, 12, 15,\n",
      "       15, 13, 15, 15, 15, 15, 12, 12, 15,  0, 15, 15, 12,  6, 15,  7, 24]))\n"
     ]
    }
   ],
   "source": [
    "from sklearn.metrics import accuracy_score\n",
    "print('Accuracy score : ',(y_test,prediction_logistic))"
   ]
  },
  {
   "cell_type": "code",
   "execution_count": 34,
   "metadata": {},
   "outputs": [
    {
     "name": "stdout",
     "output_type": "stream",
     "text": [
      "[0.5        0.57434918 0.65975396 0.75785828 0.87055056 1.\n",
      " 1.14869835 1.31950791 1.51571657 1.74110113 2.        ]\n"
     ]
    }
   ],
   "source": [
    "from sklearn import svm\n",
    "SVMclassifier=svm.SVC()\n",
    "Cval=2.**np.arange(-1,1.2,step=0.2)\n",
    "print(Cval)"
   ]
  },
  {
   "cell_type": "code",
   "execution_count": null,
   "metadata": {},
   "outputs": [],
   "source": [
    "import sklearn.model_selection as ms\n",
    "\n",
    "n_grid=[{'C':Cval}]\n",
    "from sklearn.model_selection import GridSearchCV\n",
    "cv_svc=GridSearchCV(estimator=SVMclassifier,\n",
    "        param_grid=n_grid,cv=ms.KFold(n_splits=100))\n",
    "classifier_svm= OneVsRestClassifier(SVMclassifier).fit(X_train, y_train)"
   ]
  },
  {
   "cell_type": "code",
   "execution_count": 44,
   "metadata": {},
   "outputs": [],
   "source": [
    "prediction_svm = classifier_svm.predict(X_test)"
   ]
  },
  {
   "cell_type": "code",
   "execution_count": 45,
   "metadata": {},
   "outputs": [
    {
     "name": "stdout",
     "output_type": "stream",
     "text": [
      "              precision    recall  f1-score   support\n",
      "\n",
      "           0       0.50      1.00      0.67         1\n",
      "           1       1.00      1.00      1.00         1\n",
      "           2       1.00      0.50      0.67         2\n",
      "           3       1.00      1.00      1.00         1\n",
      "           5       1.00      1.00      1.00         1\n",
      "           6       0.75      1.00      0.86         3\n",
      "           7       0.50      1.00      0.67         1\n",
      "           9       1.00      0.75      0.86         4\n",
      "          11       1.00      0.33      0.50         3\n",
      "          12       0.00      0.00      0.00         0\n",
      "          13       1.00      1.00      1.00         2\n",
      "          14       1.00      1.00      1.00         3\n",
      "          15       0.50      1.00      0.67         2\n",
      "          16       1.00      1.00      1.00         1\n",
      "          17       1.00      0.50      0.67         2\n",
      "          20       0.00      0.00      0.00         3\n",
      "          21       1.00      1.00      1.00         1\n",
      "          22       0.00      0.00      0.00         1\n",
      "          23       0.00      0.00      0.00         1\n",
      "          24       1.00      1.00      1.00         1\n",
      "\n",
      "    accuracy                           0.71        34\n",
      "   macro avg       0.71      0.70      0.68        34\n",
      "weighted avg       0.77      0.71      0.70        34\n",
      "\n"
     ]
    },
    {
     "name": "stderr",
     "output_type": "stream",
     "text": [
      "C:\\ProgramData\\Anaconda3\\lib\\site-packages\\sklearn\\metrics\\_classification.py:1221: UndefinedMetricWarning: Precision and F-score are ill-defined and being set to 0.0 in labels with no predicted samples. Use `zero_division` parameter to control this behavior.\n",
      "  _warn_prf(average, modifier, msg_start, len(result))\n",
      "C:\\ProgramData\\Anaconda3\\lib\\site-packages\\sklearn\\metrics\\_classification.py:1221: UndefinedMetricWarning: Recall and F-score are ill-defined and being set to 0.0 in labels with no true samples. Use `zero_division` parameter to control this behavior.\n",
      "  _warn_prf(average, modifier, msg_start, len(result))\n"
     ]
    }
   ],
   "source": [
    "from sklearn import metrics\n",
    "print(classification_report(y_test,prediction_svm))"
   ]
  },
  {
   "cell_type": "code",
   "execution_count": 48,
   "metadata": {},
   "outputs": [],
   "source": [
    "from sklearn.ensemble import RandomForestClassifier\n",
    "clf=RandomForestClassifier(n_estimators=100)\n",
    "classifier_random_forest= OneVsRestClassifier(clf).fit(X_train, y_train)\n",
    "prediction_random_forest = classifier_random_forest.predict(X_test)"
   ]
  },
  {
   "cell_type": "code",
   "execution_count": 49,
   "metadata": {},
   "outputs": [
    {
     "data": {
      "text/plain": [
       "array([ 9, 14,  7,  5, 23, 22,  6,  0, 21,  7, 14,  2,  8, 23, 15, 16, 15,\n",
       "       23, 13, 12, 12, 15,  0,  5, 18, 12,  0, 13, 15, 18,  6,  6, 17, 24])"
      ]
     },
     "execution_count": 49,
     "metadata": {},
     "output_type": "execute_result"
    }
   ],
   "source": [
    "prediction_random_forest"
   ]
  },
  {
   "cell_type": "code",
   "execution_count": 50,
   "metadata": {},
   "outputs": [
    {
     "name": "stdout",
     "output_type": "stream",
     "text": [
      "              precision    recall  f1-score   support\n",
      "\n",
      "           0       0.33      1.00      0.50         1\n",
      "           1       0.00      0.00      0.00         1\n",
      "           2       1.00      0.50      0.67         2\n",
      "           3       0.00      0.00      0.00         1\n",
      "           5       0.50      1.00      0.67         1\n",
      "           6       0.67      0.67      0.67         3\n",
      "           7       0.50      1.00      0.67         1\n",
      "           8       0.00      0.00      0.00         0\n",
      "           9       1.00      0.25      0.40         4\n",
      "          11       0.00      0.00      0.00         3\n",
      "          12       0.00      0.00      0.00         0\n",
      "          13       1.00      1.00      1.00         2\n",
      "          14       1.00      0.67      0.80         3\n",
      "          15       0.50      1.00      0.67         2\n",
      "          16       1.00      1.00      1.00         1\n",
      "          17       1.00      0.50      0.67         2\n",
      "          18       0.00      0.00      0.00         0\n",
      "          20       0.00      0.00      0.00         3\n",
      "          21       1.00      1.00      1.00         1\n",
      "          22       1.00      1.00      1.00         1\n",
      "          23       0.00      0.00      0.00         1\n",
      "          24       1.00      1.00      1.00         1\n",
      "\n",
      "    accuracy                           0.53        34\n",
      "   macro avg       0.52      0.53      0.49        34\n",
      "weighted avg       0.63      0.53      0.52        34\n",
      "\n"
     ]
    },
    {
     "name": "stderr",
     "output_type": "stream",
     "text": [
      "C:\\ProgramData\\Anaconda3\\lib\\site-packages\\sklearn\\metrics\\_classification.py:1221: UndefinedMetricWarning: Precision and F-score are ill-defined and being set to 0.0 in labels with no predicted samples. Use `zero_division` parameter to control this behavior.\n",
      "  _warn_prf(average, modifier, msg_start, len(result))\n",
      "C:\\ProgramData\\Anaconda3\\lib\\site-packages\\sklearn\\metrics\\_classification.py:1221: UndefinedMetricWarning: Recall and F-score are ill-defined and being set to 0.0 in labels with no true samples. Use `zero_division` parameter to control this behavior.\n",
      "  _warn_prf(average, modifier, msg_start, len(result))\n"
     ]
    }
   ],
   "source": [
    "print(classification_report(y_test,prediction_random_forest))"
   ]
  },
  {
   "cell_type": "code",
   "execution_count": 52,
   "metadata": {},
   "outputs": [
    {
     "data": {
      "text/html": [
       "<div>\n",
       "<style scoped>\n",
       "    .dataframe tbody tr th:only-of-type {\n",
       "        vertical-align: middle;\n",
       "    }\n",
       "\n",
       "    .dataframe tbody tr th {\n",
       "        vertical-align: top;\n",
       "    }\n",
       "\n",
       "    .dataframe thead th {\n",
       "        text-align: right;\n",
       "    }\n",
       "</style>\n",
       "<table border=\"1\" class=\"dataframe\">\n",
       "  <thead>\n",
       "    <tr style=\"text-align: right;\">\n",
       "      <th></th>\n",
       "      <th>True value</th>\n",
       "      <th>predicted values by using KNN</th>\n",
       "      <th>predicted values by using Logistic Regression</th>\n",
       "      <th>predicted values by using svm</th>\n",
       "      <th>predicted values by using Random Forest</th>\n",
       "    </tr>\n",
       "  </thead>\n",
       "  <tbody>\n",
       "    <tr>\n",
       "      <th>0</th>\n",
       "      <td>9</td>\n",
       "      <td>15</td>\n",
       "      <td>15</td>\n",
       "      <td>9</td>\n",
       "      <td>9</td>\n",
       "    </tr>\n",
       "    <tr>\n",
       "      <th>1</th>\n",
       "      <td>14</td>\n",
       "      <td>12</td>\n",
       "      <td>12</td>\n",
       "      <td>14</td>\n",
       "      <td>14</td>\n",
       "    </tr>\n",
       "    <tr>\n",
       "      <th>2</th>\n",
       "      <td>17</td>\n",
       "      <td>7</td>\n",
       "      <td>7</td>\n",
       "      <td>7</td>\n",
       "      <td>7</td>\n",
       "    </tr>\n",
       "    <tr>\n",
       "      <th>3</th>\n",
       "      <td>5</td>\n",
       "      <td>5</td>\n",
       "      <td>5</td>\n",
       "      <td>5</td>\n",
       "      <td>5</td>\n",
       "    </tr>\n",
       "    <tr>\n",
       "      <th>4</th>\n",
       "      <td>11</td>\n",
       "      <td>15</td>\n",
       "      <td>12</td>\n",
       "      <td>12</td>\n",
       "      <td>23</td>\n",
       "    </tr>\n",
       "    <tr>\n",
       "      <th>5</th>\n",
       "      <td>22</td>\n",
       "      <td>12</td>\n",
       "      <td>12</td>\n",
       "      <td>12</td>\n",
       "      <td>22</td>\n",
       "    </tr>\n",
       "    <tr>\n",
       "      <th>6</th>\n",
       "      <td>6</td>\n",
       "      <td>6</td>\n",
       "      <td>6</td>\n",
       "      <td>6</td>\n",
       "      <td>6</td>\n",
       "    </tr>\n",
       "    <tr>\n",
       "      <th>7</th>\n",
       "      <td>6</td>\n",
       "      <td>12</td>\n",
       "      <td>12</td>\n",
       "      <td>6</td>\n",
       "      <td>0</td>\n",
       "    </tr>\n",
       "    <tr>\n",
       "      <th>8</th>\n",
       "      <td>21</td>\n",
       "      <td>7</td>\n",
       "      <td>7</td>\n",
       "      <td>21</td>\n",
       "      <td>21</td>\n",
       "    </tr>\n",
       "    <tr>\n",
       "      <th>9</th>\n",
       "      <td>7</td>\n",
       "      <td>7</td>\n",
       "      <td>7</td>\n",
       "      <td>7</td>\n",
       "      <td>7</td>\n",
       "    </tr>\n",
       "    <tr>\n",
       "      <th>10</th>\n",
       "      <td>14</td>\n",
       "      <td>12</td>\n",
       "      <td>12</td>\n",
       "      <td>14</td>\n",
       "      <td>14</td>\n",
       "    </tr>\n",
       "    <tr>\n",
       "      <th>11</th>\n",
       "      <td>2</td>\n",
       "      <td>15</td>\n",
       "      <td>15</td>\n",
       "      <td>2</td>\n",
       "      <td>2</td>\n",
       "    </tr>\n",
       "    <tr>\n",
       "      <th>12</th>\n",
       "      <td>3</td>\n",
       "      <td>15</td>\n",
       "      <td>15</td>\n",
       "      <td>3</td>\n",
       "      <td>8</td>\n",
       "    </tr>\n",
       "    <tr>\n",
       "      <th>13</th>\n",
       "      <td>11</td>\n",
       "      <td>23</td>\n",
       "      <td>23</td>\n",
       "      <td>23</td>\n",
       "      <td>23</td>\n",
       "    </tr>\n",
       "    <tr>\n",
       "      <th>14</th>\n",
       "      <td>15</td>\n",
       "      <td>15</td>\n",
       "      <td>15</td>\n",
       "      <td>15</td>\n",
       "      <td>15</td>\n",
       "    </tr>\n",
       "    <tr>\n",
       "      <th>15</th>\n",
       "      <td>16</td>\n",
       "      <td>12</td>\n",
       "      <td>12</td>\n",
       "      <td>16</td>\n",
       "      <td>16</td>\n",
       "    </tr>\n",
       "    <tr>\n",
       "      <th>16</th>\n",
       "      <td>15</td>\n",
       "      <td>15</td>\n",
       "      <td>15</td>\n",
       "      <td>15</td>\n",
       "      <td>15</td>\n",
       "    </tr>\n",
       "    <tr>\n",
       "      <th>17</th>\n",
       "      <td>11</td>\n",
       "      <td>15</td>\n",
       "      <td>15</td>\n",
       "      <td>11</td>\n",
       "      <td>23</td>\n",
       "    </tr>\n",
       "    <tr>\n",
       "      <th>18</th>\n",
       "      <td>13</td>\n",
       "      <td>13</td>\n",
       "      <td>13</td>\n",
       "      <td>13</td>\n",
       "      <td>13</td>\n",
       "    </tr>\n",
       "    <tr>\n",
       "      <th>19</th>\n",
       "      <td>2</td>\n",
       "      <td>15</td>\n",
       "      <td>15</td>\n",
       "      <td>12</td>\n",
       "      <td>12</td>\n",
       "    </tr>\n",
       "    <tr>\n",
       "      <th>20</th>\n",
       "      <td>20</td>\n",
       "      <td>15</td>\n",
       "      <td>15</td>\n",
       "      <td>15</td>\n",
       "      <td>12</td>\n",
       "    </tr>\n",
       "    <tr>\n",
       "      <th>21</th>\n",
       "      <td>20</td>\n",
       "      <td>15</td>\n",
       "      <td>15</td>\n",
       "      <td>6</td>\n",
       "      <td>15</td>\n",
       "    </tr>\n",
       "    <tr>\n",
       "      <th>22</th>\n",
       "      <td>9</td>\n",
       "      <td>15</td>\n",
       "      <td>15</td>\n",
       "      <td>9</td>\n",
       "      <td>0</td>\n",
       "    </tr>\n",
       "    <tr>\n",
       "      <th>23</th>\n",
       "      <td>23</td>\n",
       "      <td>15</td>\n",
       "      <td>12</td>\n",
       "      <td>12</td>\n",
       "      <td>5</td>\n",
       "    </tr>\n",
       "    <tr>\n",
       "      <th>24</th>\n",
       "      <td>14</td>\n",
       "      <td>12</td>\n",
       "      <td>12</td>\n",
       "      <td>14</td>\n",
       "      <td>18</td>\n",
       "    </tr>\n",
       "    <tr>\n",
       "      <th>25</th>\n",
       "      <td>9</td>\n",
       "      <td>15</td>\n",
       "      <td>15</td>\n",
       "      <td>0</td>\n",
       "      <td>12</td>\n",
       "    </tr>\n",
       "    <tr>\n",
       "      <th>26</th>\n",
       "      <td>0</td>\n",
       "      <td>0</td>\n",
       "      <td>0</td>\n",
       "      <td>0</td>\n",
       "      <td>0</td>\n",
       "    </tr>\n",
       "    <tr>\n",
       "      <th>27</th>\n",
       "      <td>13</td>\n",
       "      <td>15</td>\n",
       "      <td>15</td>\n",
       "      <td>13</td>\n",
       "      <td>13</td>\n",
       "    </tr>\n",
       "    <tr>\n",
       "      <th>28</th>\n",
       "      <td>9</td>\n",
       "      <td>15</td>\n",
       "      <td>15</td>\n",
       "      <td>9</td>\n",
       "      <td>15</td>\n",
       "    </tr>\n",
       "    <tr>\n",
       "      <th>29</th>\n",
       "      <td>1</td>\n",
       "      <td>12</td>\n",
       "      <td>12</td>\n",
       "      <td>1</td>\n",
       "      <td>18</td>\n",
       "    </tr>\n",
       "    <tr>\n",
       "      <th>30</th>\n",
       "      <td>6</td>\n",
       "      <td>6</td>\n",
       "      <td>6</td>\n",
       "      <td>6</td>\n",
       "      <td>6</td>\n",
       "    </tr>\n",
       "    <tr>\n",
       "      <th>31</th>\n",
       "      <td>20</td>\n",
       "      <td>15</td>\n",
       "      <td>15</td>\n",
       "      <td>15</td>\n",
       "      <td>6</td>\n",
       "    </tr>\n",
       "    <tr>\n",
       "      <th>32</th>\n",
       "      <td>17</td>\n",
       "      <td>7</td>\n",
       "      <td>7</td>\n",
       "      <td>17</td>\n",
       "      <td>17</td>\n",
       "    </tr>\n",
       "    <tr>\n",
       "      <th>33</th>\n",
       "      <td>24</td>\n",
       "      <td>24</td>\n",
       "      <td>24</td>\n",
       "      <td>24</td>\n",
       "      <td>24</td>\n",
       "    </tr>\n",
       "  </tbody>\n",
       "</table>\n",
       "</div>"
      ],
      "text/plain": [
       "    True value  predicted values by using KNN  \\\n",
       "0            9                             15   \n",
       "1           14                             12   \n",
       "2           17                              7   \n",
       "3            5                              5   \n",
       "4           11                             15   \n",
       "5           22                             12   \n",
       "6            6                              6   \n",
       "7            6                             12   \n",
       "8           21                              7   \n",
       "9            7                              7   \n",
       "10          14                             12   \n",
       "11           2                             15   \n",
       "12           3                             15   \n",
       "13          11                             23   \n",
       "14          15                             15   \n",
       "15          16                             12   \n",
       "16          15                             15   \n",
       "17          11                             15   \n",
       "18          13                             13   \n",
       "19           2                             15   \n",
       "20          20                             15   \n",
       "21          20                             15   \n",
       "22           9                             15   \n",
       "23          23                             15   \n",
       "24          14                             12   \n",
       "25           9                             15   \n",
       "26           0                              0   \n",
       "27          13                             15   \n",
       "28           9                             15   \n",
       "29           1                             12   \n",
       "30           6                              6   \n",
       "31          20                             15   \n",
       "32          17                              7   \n",
       "33          24                             24   \n",
       "\n",
       "    predicted values by using Logistic Regression  \\\n",
       "0                                              15   \n",
       "1                                              12   \n",
       "2                                               7   \n",
       "3                                               5   \n",
       "4                                              12   \n",
       "5                                              12   \n",
       "6                                               6   \n",
       "7                                              12   \n",
       "8                                               7   \n",
       "9                                               7   \n",
       "10                                             12   \n",
       "11                                             15   \n",
       "12                                             15   \n",
       "13                                             23   \n",
       "14                                             15   \n",
       "15                                             12   \n",
       "16                                             15   \n",
       "17                                             15   \n",
       "18                                             13   \n",
       "19                                             15   \n",
       "20                                             15   \n",
       "21                                             15   \n",
       "22                                             15   \n",
       "23                                             12   \n",
       "24                                             12   \n",
       "25                                             15   \n",
       "26                                              0   \n",
       "27                                             15   \n",
       "28                                             15   \n",
       "29                                             12   \n",
       "30                                              6   \n",
       "31                                             15   \n",
       "32                                              7   \n",
       "33                                             24   \n",
       "\n",
       "    predicted values by using svm  predicted values by using Random Forest  \n",
       "0                               9                                        9  \n",
       "1                              14                                       14  \n",
       "2                               7                                        7  \n",
       "3                               5                                        5  \n",
       "4                              12                                       23  \n",
       "5                              12                                       22  \n",
       "6                               6                                        6  \n",
       "7                               6                                        0  \n",
       "8                              21                                       21  \n",
       "9                               7                                        7  \n",
       "10                             14                                       14  \n",
       "11                              2                                        2  \n",
       "12                              3                                        8  \n",
       "13                             23                                       23  \n",
       "14                             15                                       15  \n",
       "15                             16                                       16  \n",
       "16                             15                                       15  \n",
       "17                             11                                       23  \n",
       "18                             13                                       13  \n",
       "19                             12                                       12  \n",
       "20                             15                                       12  \n",
       "21                              6                                       15  \n",
       "22                              9                                        0  \n",
       "23                             12                                        5  \n",
       "24                             14                                       18  \n",
       "25                              0                                       12  \n",
       "26                              0                                        0  \n",
       "27                             13                                       13  \n",
       "28                              9                                       15  \n",
       "29                              1                                       18  \n",
       "30                              6                                        6  \n",
       "31                             15                                        6  \n",
       "32                             17                                       17  \n",
       "33                             24                                       24  "
      ]
     },
     "execution_count": 52,
     "metadata": {},
     "output_type": "execute_result"
    }
   ],
   "source": [
    "Y_true=y_test\n",
    "Predicted_datas={'True value' : Y_true,\n",
    "         'predicted values by using KNN': prediction,\n",
    "                'predicted values by using Logistic Regression':prediction_logistic,\n",
    "                'predicted values by using svm':prediction_svm,\n",
    "                'predicted values by using Random Forest':prediction_random_forest}\n",
    "Predicted_datas=pd.DataFrame(Predicted_datas)\n",
    "Predicted_datas"
   ]
  },
  {
   "cell_type": "markdown",
   "metadata": {},
   "source": [
    "Correct prediction is come from using KNN"
   ]
  },
  {
   "cell_type": "code",
   "execution_count": 51,
   "metadata": {},
   "outputs": [
    {
     "data": {
      "text/html": [
       "<div>\n",
       "<style scoped>\n",
       "    .dataframe tbody tr th:only-of-type {\n",
       "        vertical-align: middle;\n",
       "    }\n",
       "\n",
       "    .dataframe tbody tr th {\n",
       "        vertical-align: top;\n",
       "    }\n",
       "\n",
       "    .dataframe thead th {\n",
       "        text-align: right;\n",
       "    }\n",
       "</style>\n",
       "<table border=\"1\" class=\"dataframe\">\n",
       "  <thead>\n",
       "    <tr style=\"text-align: right;\">\n",
       "      <th></th>\n",
       "      <th>True value</th>\n",
       "      <th>predicted values by using KNN</th>\n",
       "    </tr>\n",
       "  </thead>\n",
       "  <tbody>\n",
       "    <tr>\n",
       "      <th>0</th>\n",
       "      <td>9</td>\n",
       "      <td>15</td>\n",
       "    </tr>\n",
       "    <tr>\n",
       "      <th>1</th>\n",
       "      <td>14</td>\n",
       "      <td>12</td>\n",
       "    </tr>\n",
       "    <tr>\n",
       "      <th>2</th>\n",
       "      <td>17</td>\n",
       "      <td>7</td>\n",
       "    </tr>\n",
       "    <tr>\n",
       "      <th>3</th>\n",
       "      <td>5</td>\n",
       "      <td>5</td>\n",
       "    </tr>\n",
       "    <tr>\n",
       "      <th>4</th>\n",
       "      <td>11</td>\n",
       "      <td>15</td>\n",
       "    </tr>\n",
       "    <tr>\n",
       "      <th>5</th>\n",
       "      <td>22</td>\n",
       "      <td>12</td>\n",
       "    </tr>\n",
       "    <tr>\n",
       "      <th>6</th>\n",
       "      <td>6</td>\n",
       "      <td>6</td>\n",
       "    </tr>\n",
       "    <tr>\n",
       "      <th>7</th>\n",
       "      <td>6</td>\n",
       "      <td>12</td>\n",
       "    </tr>\n",
       "    <tr>\n",
       "      <th>8</th>\n",
       "      <td>21</td>\n",
       "      <td>7</td>\n",
       "    </tr>\n",
       "    <tr>\n",
       "      <th>9</th>\n",
       "      <td>7</td>\n",
       "      <td>7</td>\n",
       "    </tr>\n",
       "    <tr>\n",
       "      <th>10</th>\n",
       "      <td>14</td>\n",
       "      <td>12</td>\n",
       "    </tr>\n",
       "    <tr>\n",
       "      <th>11</th>\n",
       "      <td>2</td>\n",
       "      <td>15</td>\n",
       "    </tr>\n",
       "    <tr>\n",
       "      <th>12</th>\n",
       "      <td>3</td>\n",
       "      <td>15</td>\n",
       "    </tr>\n",
       "    <tr>\n",
       "      <th>13</th>\n",
       "      <td>11</td>\n",
       "      <td>23</td>\n",
       "    </tr>\n",
       "    <tr>\n",
       "      <th>14</th>\n",
       "      <td>15</td>\n",
       "      <td>15</td>\n",
       "    </tr>\n",
       "    <tr>\n",
       "      <th>15</th>\n",
       "      <td>16</td>\n",
       "      <td>12</td>\n",
       "    </tr>\n",
       "    <tr>\n",
       "      <th>16</th>\n",
       "      <td>15</td>\n",
       "      <td>15</td>\n",
       "    </tr>\n",
       "    <tr>\n",
       "      <th>17</th>\n",
       "      <td>11</td>\n",
       "      <td>15</td>\n",
       "    </tr>\n",
       "    <tr>\n",
       "      <th>18</th>\n",
       "      <td>13</td>\n",
       "      <td>13</td>\n",
       "    </tr>\n",
       "    <tr>\n",
       "      <th>19</th>\n",
       "      <td>2</td>\n",
       "      <td>15</td>\n",
       "    </tr>\n",
       "    <tr>\n",
       "      <th>20</th>\n",
       "      <td>20</td>\n",
       "      <td>15</td>\n",
       "    </tr>\n",
       "    <tr>\n",
       "      <th>21</th>\n",
       "      <td>20</td>\n",
       "      <td>15</td>\n",
       "    </tr>\n",
       "    <tr>\n",
       "      <th>22</th>\n",
       "      <td>9</td>\n",
       "      <td>15</td>\n",
       "    </tr>\n",
       "    <tr>\n",
       "      <th>23</th>\n",
       "      <td>23</td>\n",
       "      <td>15</td>\n",
       "    </tr>\n",
       "    <tr>\n",
       "      <th>24</th>\n",
       "      <td>14</td>\n",
       "      <td>12</td>\n",
       "    </tr>\n",
       "    <tr>\n",
       "      <th>25</th>\n",
       "      <td>9</td>\n",
       "      <td>15</td>\n",
       "    </tr>\n",
       "    <tr>\n",
       "      <th>26</th>\n",
       "      <td>0</td>\n",
       "      <td>0</td>\n",
       "    </tr>\n",
       "    <tr>\n",
       "      <th>27</th>\n",
       "      <td>13</td>\n",
       "      <td>15</td>\n",
       "    </tr>\n",
       "    <tr>\n",
       "      <th>28</th>\n",
       "      <td>9</td>\n",
       "      <td>15</td>\n",
       "    </tr>\n",
       "    <tr>\n",
       "      <th>29</th>\n",
       "      <td>1</td>\n",
       "      <td>12</td>\n",
       "    </tr>\n",
       "    <tr>\n",
       "      <th>30</th>\n",
       "      <td>6</td>\n",
       "      <td>6</td>\n",
       "    </tr>\n",
       "    <tr>\n",
       "      <th>31</th>\n",
       "      <td>20</td>\n",
       "      <td>15</td>\n",
       "    </tr>\n",
       "    <tr>\n",
       "      <th>32</th>\n",
       "      <td>17</td>\n",
       "      <td>7</td>\n",
       "    </tr>\n",
       "    <tr>\n",
       "      <th>33</th>\n",
       "      <td>24</td>\n",
       "      <td>24</td>\n",
       "    </tr>\n",
       "  </tbody>\n",
       "</table>\n",
       "</div>"
      ],
      "text/plain": [
       "    True value  predicted values by using KNN\n",
       "0            9                             15\n",
       "1           14                             12\n",
       "2           17                              7\n",
       "3            5                              5\n",
       "4           11                             15\n",
       "5           22                             12\n",
       "6            6                              6\n",
       "7            6                             12\n",
       "8           21                              7\n",
       "9            7                              7\n",
       "10          14                             12\n",
       "11           2                             15\n",
       "12           3                             15\n",
       "13          11                             23\n",
       "14          15                             15\n",
       "15          16                             12\n",
       "16          15                             15\n",
       "17          11                             15\n",
       "18          13                             13\n",
       "19           2                             15\n",
       "20          20                             15\n",
       "21          20                             15\n",
       "22           9                             15\n",
       "23          23                             15\n",
       "24          14                             12\n",
       "25           9                             15\n",
       "26           0                              0\n",
       "27          13                             15\n",
       "28           9                             15\n",
       "29           1                             12\n",
       "30           6                              6\n",
       "31          20                             15\n",
       "32          17                              7\n",
       "33          24                             24"
      ]
     },
     "execution_count": 51,
     "metadata": {},
     "output_type": "execute_result"
    }
   ],
   "source": [
    "Y_true=y_test\n",
    "Predicted_data={'True value' : Y_true,\n",
    "         'predicted values by using KNN': prediction}\n",
    "Predicted_data=pd.DataFrame(Predicted_data)\n",
    "Predicted_data"
   ]
  },
  {
   "cell_type": "markdown",
   "metadata": {},
   "source": [
    "convert to Json Format"
   ]
  },
  {
   "cell_type": "code",
   "execution_count": 47,
   "metadata": {},
   "outputs": [
    {
     "name": "stdout",
     "output_type": "stream",
     "text": [
      "[{\"True Sale value\":9,\"predicted values by using KNN\":15},{\"True Sale value\":14,\"predicted values by using KNN\":12},{\"True Sale value\":17,\"predicted values by using KNN\":7},{\"True Sale value\":5,\"predicted values by using KNN\":5},{\"True Sale value\":11,\"predicted values by using KNN\":15},{\"True Sale value\":22,\"predicted values by using KNN\":12},{\"True Sale value\":6,\"predicted values by using KNN\":6},{\"True Sale value\":6,\"predicted values by using KNN\":12},{\"True Sale value\":21,\"predicted values by using KNN\":7},{\"True Sale value\":7,\"predicted values by using KNN\":7},{\"True Sale value\":14,\"predicted values by using KNN\":12},{\"True Sale value\":2,\"predicted values by using KNN\":15},{\"True Sale value\":3,\"predicted values by using KNN\":15},{\"True Sale value\":11,\"predicted values by using KNN\":23},{\"True Sale value\":15,\"predicted values by using KNN\":15},{\"True Sale value\":16,\"predicted values by using KNN\":12},{\"True Sale value\":15,\"predicted values by using KNN\":15},{\"True Sale value\":11,\"predicted values by using KNN\":15},{\"True Sale value\":13,\"predicted values by using KNN\":13},{\"True Sale value\":2,\"predicted values by using KNN\":15},{\"True Sale value\":20,\"predicted values by using KNN\":15},{\"True Sale value\":20,\"predicted values by using KNN\":15},{\"True Sale value\":9,\"predicted values by using KNN\":15},{\"True Sale value\":23,\"predicted values by using KNN\":15},{\"True Sale value\":14,\"predicted values by using KNN\":12},{\"True Sale value\":9,\"predicted values by using KNN\":15},{\"True Sale value\":0,\"predicted values by using KNN\":0},{\"True Sale value\":13,\"predicted values by using KNN\":15},{\"True Sale value\":9,\"predicted values by using KNN\":15},{\"True Sale value\":1,\"predicted values by using KNN\":12},{\"True Sale value\":6,\"predicted values by using KNN\":6},{\"True Sale value\":20,\"predicted values by using KNN\":15},{\"True Sale value\":17,\"predicted values by using KNN\":7},{\"True Sale value\":24,\"predicted values by using KNN\":24}]\n"
     ]
    }
   ],
   "source": [
    "JS=Predicted_data.to_json(orient='records')\n",
    "print(JS)"
   ]
  },
  {
   "cell_type": "code",
   "execution_count": null,
   "metadata": {},
   "outputs": [],
   "source": []
  },
  {
   "cell_type": "code",
   "execution_count": null,
   "metadata": {},
   "outputs": [],
   "source": []
  },
  {
   "cell_type": "code",
   "execution_count": null,
   "metadata": {},
   "outputs": [],
   "source": []
  },
  {
   "cell_type": "code",
   "execution_count": null,
   "metadata": {},
   "outputs": [],
   "source": []
  },
  {
   "cell_type": "code",
   "execution_count": null,
   "metadata": {},
   "outputs": [],
   "source": []
  },
  {
   "cell_type": "code",
   "execution_count": null,
   "metadata": {},
   "outputs": [],
   "source": []
  }
 ],
 "metadata": {
  "kernelspec": {
   "display_name": "Python 3",
   "language": "python",
   "name": "python3"
  },
  "language_info": {
   "codemirror_mode": {
    "name": "ipython",
    "version": 3
   },
   "file_extension": ".py",
   "mimetype": "text/x-python",
   "name": "python",
   "nbconvert_exporter": "python",
   "pygments_lexer": "ipython3",
   "version": "3.8.3"
  }
 },
 "nbformat": 4,
 "nbformat_minor": 4
}
